{
 "cells": [
  {
   "cell_type": "code",
   "execution_count": 130,
   "metadata": {
    "collapsed": true
   },
   "outputs": [],
   "source": [
    "\n",
    "import random\n",
    "import matplotlib.pyplot as plt\n",
    "import math\n",
    "import numpy as np\n"
   ]
  },
  {
   "cell_type": "code",
   "execution_count": null,
   "metadata": {
    "collapsed": true
   },
   "outputs": [],
   "source": []
  },
  {
   "cell_type": "markdown",
   "metadata": {},
   "source": [
    "# Homogenous case : \n",
    "p and alpha are the same for each players"
   ]
  },
  {
   "cell_type": "code",
   "execution_count": 257,
   "metadata": {
    "collapsed": true
   },
   "outputs": [],
   "source": [
    "class Individual:\n",
    "    def __init__(self, Initialwealth, riskCurve, alpha,index):\n",
    "        self.Initialwealth = Initialwealth #wealth\n",
    "        self.wealth = Initialwealth\n",
    "        self.riskCurve = riskCurve \n",
    "        self.alpha = alpha #fraction lost during bad event\n",
    "        self.behaviour = None #Initialized randomly when a simulation is launched\n",
    "        self.contribution = []\n",
    "        self.finalWealthHistory = []\n",
    "        self.index = index\n",
    "        self.fitness = None\n",
    "        \n",
    "    def __repr__(self):\n",
    "        #To output a string representaion of the object\n",
    "        return ('Individual {}, behaviour : {}'.format(self.index,str(self.behaviour)))\n",
    "    \n",
    "\n",
    " \n",
    "    def generateRandomBehaviour(self,numberOfRounds):\n",
    "        #instanciate a random behaviour\n",
    "        #self.behaviour = [[round(random.random(),2),round(random.random(),2),round(random.random(),2)] for i in range(numberOfRounds)]\n",
    "        self.behaviour = [[round(random.random(),2),i/numberOfRounds,i/numberOfRounds] for i in range(numberOfRounds)]\n",
    "        \n",
    "    def setFitnessValue(self):\n",
    "        #to calculate the fitness value a the end of a generation (usefull to render new population)\n",
    "        self.fitness =  np.exp(np.mean(self.finalWealthHistory))\n",
    "        \n",
    "    def Contribution(self, Cr,nround):\n",
    "        beh= self.behaviour[nround]\n",
    "        if(Cr<=beh[0]):\n",
    "            return beh[1]\n",
    "        else:\n",
    "            return beh[2]\n",
    "        \n",
    "\n",
    "    \n",
    "    def Step(self, Cr ,nround):\n",
    "        #amount contributed to public good\n",
    "        c = self.Contribution(Cr,nround)\n",
    "        contribution = c*self.wealth\n",
    "        #calculate what's left of wealth\n",
    "        return c, contribution\n",
    "    \n",
    "    def addFinalWealthToHistory(self):\n",
    "        #to add the ramaining wealth at the end of a game, the the mean is done to calculate the fitness at the end of a generation\n",
    "        self.finalWealthHistory.append(self.wealth)\n",
    "        \n",
    "    def resetRound(self):\n",
    "        self.wealth = self.Initialwealth\n",
    "\n",
    "        \n",
    "def risk(Cr,riskCurve):#chance of having bad event happening\n",
    "    #this are not the right curve TODO!!\n",
    "    p1 = lambda Cr :1 -Cr\n",
    "    p2 = lambda Cr: 1-10*Cr if Cr<0.1 else 0\n",
    "    p3 = lambda Cr : 1-math.pow(Cr,4)\n",
    "    p4 = lambda Cr: 1/(math.exp(10*((Cr)-0.5))+1)\n",
    "    dic = {'linear':p1,'piecewiseLinear':p2,'powerlaw':p3,'treshold':p4}\n",
    "\n",
    "    if (random.random() < dic[riskCurve](Cr)):\n",
    "        return 1\n",
    "    return 0\n"
   ]
  },
  {
   "cell_type": "code",
   "execution_count": 252,
   "metadata": {},
   "outputs": [
    {
     "name": "stdout",
     "output_type": "stream",
     "text": [
      "[[0.42, 0.0, 0.0], [0.32, 0.5, 0.5]]\n",
      "[[0.57, 0.0, 0.0], [0.54, 0.5, 0.5]]\n"
     ]
    },
    {
     "data": {
      "text/plain": [
       "(0.0, 0.0)"
      ]
     },
     "execution_count": 252,
     "metadata": {},
     "output_type": "execute_result"
    }
   ],
   "source": [
    "ind1 = Individual(100,'linear',0.1,1)\n",
    "ind2 = Individual(100,'linear',0.1,1)\n",
    "ind1.generateRandomBehaviour(2)\n",
    "ind2.generateRandomBehaviour(2)\n",
    "print(ind1.behaviour)\n",
    "print(ind2.behaviour)\n",
    "ind1.Step(0,0)\n",
    "\n"
   ]
  },
  {
   "cell_type": "code",
   "execution_count": 239,
   "metadata": {},
   "outputs": [
    {
     "data": {
      "text/plain": [
       "(0.82, 82.0)"
      ]
     },
     "execution_count": 239,
     "metadata": {},
     "output_type": "execute_result"
    }
   ],
   "source": [
    "ind2.Step(0,0)"
   ]
  },
  {
   "cell_type": "code",
   "execution_count": 246,
   "metadata": {},
   "outputs": [
    {
     "name": "stdout",
     "output_type": "stream",
     "text": [
      "yo\n"
     ]
    },
    {
     "data": {
      "text/plain": [
       "(0.39, 0.5576923169999995)"
      ]
     },
     "execution_count": 246,
     "metadata": {},
     "output_type": "execute_result"
    }
   ],
   "source": []
  },
  {
   "cell_type": "code",
   "execution_count": 260,
   "metadata": {},
   "outputs": [],
   "source": [
    "class Simulation:\n",
    "    def __init__(self,numberOfRounds,wealth,alpha,riskCurve,populationSize,numberOfGamesByGenerations,numberOfGenerations,mu,sigma):\n",
    "        self.numberOfRounds = numberOfRounds\n",
    "        self.numberOfGamesByGenerations = numberOfGamesByGenerations\n",
    "        self.numberOfGenerations = numberOfGenerations\n",
    "        self.wealth = wealth \n",
    "        self.alpha = alpha\n",
    "        self.riskCurve = riskCurve\n",
    "        self.populationSize = populationSize\n",
    "        #create the first population\n",
    "        self.population = self.createRandomPopulation()\n",
    "        self.mu = mu\n",
    "        self.sigma = sigma\n",
    "        \n",
    "    def createRandomPopulation(self):\n",
    "        #create the first population\n",
    "        population = [Individual(self.wealth,self.riskCurve,self.alpha,i) for i in range(self.populationSize)]\n",
    "        for individual in population:\n",
    "            #initialize the behaviour (lenght = numberofRounds)\n",
    "            individual.generateRandomBehaviour(self.numberOfRounds)\n",
    "        return population\n",
    "    \n",
    "    def renewPopulation(self):\n",
    "        fitness = [individual.fitness for individual in self.population]\n",
    "        fitprop = fitness/np.sum(fitness)\n",
    "        numoffspring = np.random.multinomial(self.populationSize, fitprop)\n",
    "        newbehaviours = []\n",
    "        for individual, num in zip(self.population, numoffspring):\n",
    "            newbehaviours.extend([individual.behaviour]*num)\n",
    "        population = [Individual(self.wealth,self.riskCurve,self.alpha,i) for i in range(self.populationSize)]\n",
    "        for i in range(self.populationSize):\n",
    "            population[i].behaviour = newbehaviours[i]\n",
    "            \n",
    "        \n",
    "        \n",
    "        \n",
    "    \n",
    "    def playGame(self,players):\n",
    "        #play a game between two players (or more)\n",
    "        Cr = 0 # initial public good \n",
    "        temp = 0\n",
    "        contributions=np.empty((len(players),self.numberOfRounds))\n",
    "        for nround in range(self.numberOfRounds):\n",
    "            c= []\n",
    "            for i in range(len(players)):\n",
    "                cc, co =  players[i].Step(Cr,nround)\n",
    "                contributions[i,nround]=co\n",
    "                c.append(cc)\n",
    "            Cr +=temp\n",
    "            for i in range(len(players)):\n",
    "                players[i].wealth = (1-self.alpha*risk(Cr,self.riskCurve))*(players[i].wealth*(1-c[i]))\n",
    "                        \n",
    "        for i in range(len(players)):\n",
    "            players[i].contribution.append(np.sum(contributions[i])/100)\n",
    "       \n",
    "\n",
    "        \n",
    "        for player in players:\n",
    "            player.addFinalWealthToHistory()\n",
    "            player.resetRound()\n",
    "            \n",
    "        \n",
    "    \n",
    "    def playGeneration(self):\n",
    "        #for a certain number of iteration 2 players are selected randomly and the play a game\n",
    "        for i in range(self.numberOfGamesByGenerations):\n",
    "            players = np.random.choice(self.population,2,replace=False)\n",
    "            '''\n",
    "            if (i%500 == 0):\n",
    "                print(\"game : {}, player 1 : {}, player 2 : {}\".format(i,players[0],players[1]))\n",
    "            '''\n",
    "            self.playGame(players)\n",
    "            '''\n",
    "            if (i%500 == 0):\n",
    "                print(\"wealth player 1 : {},wealth player 2 : {}\".format(players[0].finalWealthHistory[-1],players[1].finalWealthHistory[-1]))\n",
    "            '''\n",
    "    def wrightFisher(self):\n",
    "        self.renewPopulation()\n",
    "        for individual in self.population:\n",
    "            if random.random()<self.mu:\n",
    "                for elem in individual.behaviour:\n",
    "                    elem[0] += np.random.normal(0,self.sigma)\n",
    "            if random.random()<self.mu:\n",
    "                for elem in individual.behaviour:\n",
    "                    elem[1] = np.random.uniform(0,1)\n",
    "                    elem[2] = np.random.uniform(0,1)\n",
    "    \n",
    "    def runSim(self):\n",
    "        #lauch a simulation \n",
    "        for i in range(self.numberOfGenerations):\n",
    "            if (i%20 ==0):\n",
    "                print(\"----------Generation\",i)   \n",
    "            self.playGeneration()\n",
    "            contributionValues =[]\n",
    "            for individual in self.population:\n",
    "                individual.setFitnessValue()\n",
    "                mean = np.mean(individual.contribution)\n",
    "                contributionValues.append(mean)\n",
    "            if (i%20 ==0):\n",
    "                print('contribution :', np.mean(contributionValues))\n",
    "            self.wrightFisher()  \n",
    "        print(self.population[2].behaviour)\n",
    "\n",
    "\n",
    "        \n",
    "        \n",
    "    \n",
    "        \n",
    "        \n",
    "            \n",
    "        \n",
    "    "
   ]
  },
  {
   "cell_type": "code",
   "execution_count": null,
   "metadata": {
    "collapsed": true
   },
   "outputs": [],
   "source": []
  },
  {
   "cell_type": "code",
   "execution_count": null,
   "metadata": {},
   "outputs": [],
   "source": []
  },
  {
   "cell_type": "code",
   "execution_count": 262,
   "metadata": {},
   "outputs": [
    {
     "name": "stdout",
     "output_type": "stream",
     "text": [
      "----------Generation 0\n",
      "contribution : 0.0\n",
      "----------Generation 20\n",
      "contribution : 0.081794398195\n",
      "----------Generation 40\n",
      "contribution : 0.156392443952\n",
      "----------Generation 60\n",
      "contribution : 0.216779866356\n",
      "----------Generation 80\n",
      "contribution : 0.258712875741\n",
      "[[0.5093287054526536, 0.8932956551413463, 0.6486931034492297]]\n"
     ]
    }
   ],
   "source": [
    "sim = Simulation(1,100,0,'linear',100,1000,100,0.03,0.15)\n",
    "sim.runSim()\n",
    "\n"
   ]
  },
  {
   "cell_type": "code",
   "execution_count": 23,
   "metadata": {},
   "outputs": [
    {
     "name": "stdout",
     "output_type": "stream",
     "text": [
      ">>>>Round :  1 <<<<<\n",
      "Wealth 0.81 contribution 0.1\n",
      "Wealth 0.45 contribution 0.5\n",
      ">>>>Cr :  0.6 \n",
      ">>>>Round :  2 <<<<<\n",
      "Wealth 0.2790000000000001 contribution 0.5\n",
      "Wealth 0.225 contribution 0.2\n",
      ">>>>Cr :  1.2999999999999998 \n"
     ]
    },
    {
     "data": {
      "image/png": "[encoded data removed]",
      "text/plain": [
       "<matplotlib.figure.Figure at 0x14cbbad9278>"
      ]
     },
     "metadata": {},
     "output_type": "display_data"
    }
   ],
   "source": [
    "rounds = 2 # amount of rounds\n",
    "Cr = 0 # initial public good \n",
    "population = CreatePopulation(2) # population of players\n",
    "population[1].behaviour = [[0.1,0.5,0.1],[0.7,0.2,0.5]]\n",
    "temp = 0\n",
    "for p in population:\n",
    "        temp += p.W\n",
    "for p in population:\n",
    "        p.total = temp*len(population)\n",
    "\n",
    "for i in range(rounds):\n",
    "    temp=0\n",
    "    print(\">>>>Round : \", i+1, \"<<<<<\")\n",
    "    for p in population:\n",
    "        temp += p.Step(Cr)\n",
    "    Cr+=temp\n",
    "    print(\">>>>Cr : \", Cr, \"\")\n",
    "    \n",
    "    \n",
    "plt.title('Evolution Wealth')\n",
    "plt.plot(population[0].history,'r')\n",
    "plt.plot(population[1].history,'b')\n",
    "plt.show()"
   ]
  },
  {
   "cell_type": "code",
   "execution_count": 75,
   "metadata": {},
   "outputs": [
    {
     "data": {
      "image/png": "[encoded data removed]",
      "text/plain": [
       "<matplotlib.figure.Figure at 0x14cbd127908>"
      ]
     },
     "metadata": {},
     "output_type": "display_data"
    }
   ],
   "source": [
    "#Risk curves plotting\n",
    "p1 = lambda Cr :1 -Cr\n",
    "p2 = lambda Cr: 1-10*Cr if Cr<0.1 else 0\n",
    "p3 = lambda Cr : 1-math.pow(Cr,4)\n",
    "p4 = lambda Cr: 1/(math.exp(10*((Cr)-0.5))+1)\n",
    "xas = np.arange(0.0, 1.01, 0.01)\n",
    "yas = [ p1(x) for x in xas ]\n",
    "yas2 = [p2(x) for x in xas] \n",
    "yas3 = [p3(x) for x in xas] \n",
    "yas4 = [p4(x) for x in xas] \n",
    "plt.plot(xas, yas,label = 'linear risk curves')\n",
    "plt.plot(xas, yas2,label='piecewise linear')\n",
    "plt.plot(xas, yas3, label = 'power')\n",
    "plt.plot(xas, yas4, label = 'treshold')\n",
    "plt.legend()\n",
    "plt.title('probabilty distributions')\n",
    "plt.show()"
   ]
  },
  {
   "cell_type": "code",
   "execution_count": null,
   "metadata": {
    "collapsed": true
   },
   "outputs": [],
   "source": []
  }
 ],
 "metadata": {
  "kernelspec": {
   "display_name": "Python 3",
   "language": "python",
   "name": "python3"
  },
  "language_info": {
   "codemirror_mode": {
    "name": "ipython",
    "version": 3
   },
   "file_extension": ".py",
   "mimetype": "text/x-python",
   "name": "python",
   "nbconvert_exporter": "python",
   "pygments_lexer": "ipython3",
   "version": "3.6.3"
  }
 },
 "nbformat": 4,
 "nbformat_minor": 2
}
