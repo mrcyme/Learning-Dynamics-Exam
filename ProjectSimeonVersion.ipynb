{
 "cells": [
  {
   "cell_type": "code",
   "execution_count": 1,
   "metadata": {
    "collapsed": true
   },
   "outputs": [],
   "source": [
    "import pandas as pd \n",
    "import random\n",
    "import matplotlib.pyplot as plt\n",
    "import math\n",
    "import numpy as np\n",
    "import copy"
   ]
  },
  {
   "cell_type": "code",
   "execution_count": null,
   "metadata": {
    "collapsed": true
   },
   "outputs": [],
   "source": []
  },
  {
   "cell_type": "markdown",
   "metadata": {},
   "source": [
    "# Homogenous case : \n",
    "p and alpha are the same for each players"
   ]
  },
  {
   "cell_type": "code",
   "execution_count": 46,
   "metadata": {
    "collapsed": true
   },
   "outputs": [],
   "source": [
    "class Individual:\n",
    "    def __init__(self, initialWealth, riskCurve, alpha,index,behaviour):\n",
    "        self.initialWealth = initialWealth #wealth\n",
    "        self.wealth = initialWealth\n",
    "        self.riskCurve = riskCurve \n",
    "        self.alpha = alpha #fraction lost during bad event\n",
    "        self.behaviour = behaviour #Initialized randomly when a simulation is launched\n",
    "        self.contribution = []\n",
    "        self.finalWealthHistory = []#Wealth at the end of each game \n",
    "        self.index = index\n",
    "        self.fitness = None\n",
    "        \n",
    "    def __repr__(self):\n",
    "        #To output a string representaion of the object\n",
    "        return ('Individual {}, behaviour : {}'.format(self.index,str(self.behaviour)))\n",
    "\n",
    " \n",
    "    def generateRandomBehaviour(self,numberOfRounds):\n",
    "        #instanciate a random behaviour\n",
    "        self.behaviour = [[round(random.random(),2),round(random.random(),2),round(random.random(),2)] for i in range(numberOfRounds)]\n",
    "        #self.behaviour = [[round(random.random(),2),i/numberOfRounds,i/numberOfRounds] for i in range(numberOfRounds)]\n",
    "    def setBehaviour(self,behaviour):\n",
    "        self.behaviour = behaviour\n",
    "        \n",
    "    def setFitnessValue(self):\n",
    "        #to calculate the fitness value a the end of a generation (usefull to render new population)\n",
    "        self.fitness =  np.exp(np.mean(self.finalWealthHistory))\n",
    "        \n",
    "    def Contribution(self, Cr,nround):\n",
    "        beh= self.behaviour[nround]\n",
    "        if(Cr<=beh[0]):\n",
    "            return beh[1]\n",
    "        else:\n",
    "            return beh[2]\n",
    "        \n",
    "    \n",
    "    def Step(self, Cr ,nround):\n",
    "        #amount contributed to public good\n",
    "        c = self.Contribution(Cr,nround)\n",
    "        contribution = c*self.wealth\n",
    "        #calculate what's left of wealth\n",
    "        return contribution\n",
    "    \n",
    "    def addFinalWealthToHistory(self):\n",
    "        #to add the ramaining wealth at the end of a game, the the mean is done to calculate the fitness at the end of a generation\n",
    "        self.finalWealthHistory.append(self.wealth)\n",
    "        \n",
    "    def setWealth(self,newWealth):\n",
    "        self.wealth = newWealth\n",
    "        \n",
    "    def resetRound(self):\n",
    "        self.wealth = self.initialWealth\n",
    "        \n",
    "def addNoiseToTreshold(behav,sigma):\n",
    "    #add noise to the treshold in the wrightFisher process\n",
    "    for elem in behav:\n",
    "        elem[0] += round(np.random.normal(0,sigma),2)\n",
    "        elem[0] = max(0,elem[0])\n",
    "        elem[0] = min(1,elem[0])\n",
    "\n",
    "\n",
    "\n",
    "        \n",
    "def risk(Cr,riskCurve,InitialWealth,lambda1,lambda2,lambda3):#chance of having bad event happening\n",
    "    \n",
    "    p1 = lambda Cr :1 -(lambda1*Cr/InitialWealth)\n",
    "    p2 = lambda Cr: 1-10*Cr if Cr<0.1 else 0\n",
    "    p3 = lambda Cr : 1-math.pow(Cr/InitialWealth,lambda2)\n",
    "    p4 = lambda Cr: 1/(math.exp(lambda3*((Cr/InitialWealth)-0.5))+1)\n",
    "    dic = {'linear':p1,'piecewiseLinear':p2,'powerlaw':p3,'treshold':p4}\n",
    "    if (random.random() < dic[riskCurve](Cr)):\n",
    "        return 1\n",
    "    return 0\n"
   ]
  },
  {
   "cell_type": "code",
   "execution_count": 3,
   "metadata": {},
   "outputs": [
    {
     "name": "stdout",
     "output_type": "stream",
     "text": [
      "0\n",
      "37\n",
      "87\n",
      "23\n"
     ]
    }
   ],
   "source": [
    "a = 0\n",
    "b = 0\n",
    "c = 0\n",
    "d = 0\n",
    "for i in range(100):\n",
    "    a += risk(0.6,'piecewiseLinear')\n",
    "for i in range(100):\n",
    "    b+= risk(0.6,'linear')\n",
    "for i in range(100):\n",
    "    c+= risk(0.6,'powerlaw')\n",
    "for i in range(100):\n",
    "    d+= risk(0.6,'treshold')\n",
    "print(a)\n",
    "print(b)\n",
    "print(c)\n",
    "print(d)\n",
    "\n"
   ]
  },
  {
   "cell_type": "code",
   "execution_count": null,
   "metadata": {
    "collapsed": true
   },
   "outputs": [],
   "source": []
  },
  {
   "cell_type": "code",
   "execution_count": null,
   "metadata": {
    "collapsed": true
   },
   "outputs": [],
   "source": []
  },
  {
   "cell_type": "code",
   "execution_count": 53,
   "metadata": {
    "collapsed": true
   },
   "outputs": [],
   "source": [
    "class Simulation:\n",
    "    def __init__(self,numberOfRounds,alpha,riskCurve,wealth = 1,populationSize=100,numberOfGamesByGenerations=1000,numberOfGenerations=10000,mu=0.03,sigma=0.15,catastrophicEventSchedule = 'Every Rounds',displayContribution='Total'):\n",
    "        #number of round : omega in the paper\n",
    "        self.numberOfRounds = numberOfRounds\n",
    "        self.numberOfGamesByGenerations = numberOfGamesByGenerations\n",
    "        self.numberOfGenerations = numberOfGenerations\n",
    "        self.wealth = wealth \n",
    "        self.alpha = alpha\n",
    "        self.riskCurve = riskCurve\n",
    "        self.populationSize = populationSize\n",
    "        #create the first population\n",
    "        self.population = self.createRandomPopulation()\n",
    "        self.mu = mu\n",
    "        self.sigma = sigma\n",
    "        #schedule of the catastrophic event (last round, first round, every round or final round)\n",
    "        self.catastrophicEventSchedule = catastrophicEventSchedule\n",
    "        #set the schedule ie the round in wich player will loose wealth\n",
    "        self.schedule = self.setEventSchedule()\n",
    "         #display of the contribution : total if we want the mean of cooperation for every round, Every round if we want the detail for each round\n",
    "        self.displayContribution = displayContribution \n",
    "        self.lambda1 = 1\n",
    "        self.lambda2 = 10\n",
    "        self.lambda3 = 10\n",
    "        \n",
    "    def createRandomPopulation(self):\n",
    "        #create the first population\n",
    "        population = np.array([Individual(self.wealth,self.riskCurve,self.alpha,i,None) for i in range(self.populationSize)])\n",
    "        for individual in population:\n",
    "            #initialize the behaviour (lenght = numberofRounds)\n",
    "            individual.generateRandomBehaviour(self.numberOfRounds)\n",
    "        #set a null behaviour to help convergence\n",
    "        population[0].setBehaviour([[round(random.random(),2),0,0] for i in range(self.numberOfRounds)])\n",
    "        return population\n",
    "    \n",
    "    def setEventSchedule(self):\n",
    "        #create the event schedule\n",
    "        if self.catastrophicEventSchedule == 'Every Rounds':\n",
    "            schedule = np.ones(self.numberOfRounds, dtype=bool)\n",
    "        elif self.catastrophicEventSchedule == 'First Round':\n",
    "            schedule = np.zeros(self.numberOfRounds, dtype=bool)\n",
    "            schedule[0] = True\n",
    "            \n",
    "        elif self.catastrophicEventSchedule == 'Last Round':\n",
    "            self.schedule = np.zeros(self.numberOfRounds, dtype=bool)\n",
    "            schedule[-1] = True\n",
    "            \n",
    "        elif self.catastrophicEventSchedule == 'Random Round':\n",
    "            schedule = np.zeros(self.numberOfRounds, dtype=bool)\n",
    "            r = np.random.randint(self.numberOfRounds)\n",
    "            schedule[r] = True\n",
    "        else:\n",
    "            raise ValueError('Incorrect shedule argument passed')\n",
    "        return schedule\n",
    "            \n",
    "    \n",
    "    def renewPopulation(self):\n",
    "        \"\"\"\n",
    "        renew population in function of the fitness of each individual, individual with high fitness are more likely to pass\n",
    "        to the next generation\n",
    "        \"\"\"\n",
    "        fitness = np.array([individual.fitness for individual in self.population])\n",
    "        fitprop = fitness/np.sum(fitness)\n",
    "        numoffspring = np.random.multinomial(self.populationSize, fitprop)\n",
    "        a = []\n",
    "        for j in range(len(numoffspring)):\n",
    "            for i in range(numoffspring[j]):\n",
    "                b = [elem for elem in self.population[j].behaviour]\n",
    "                #memory[counter+i] = b\n",
    "                a.append(copy.deepcopy(b))\n",
    "        return a\n",
    "    \n",
    "\n",
    "            \n",
    "     \n",
    "        \n",
    "        \n",
    "    \n",
    "    def playGame(self,players):\n",
    "        #play a game between two players (or more)\n",
    "        Cr = 0 # initial public good \n",
    "        totalInitialWealth = np.sum([player.wealth for player in players])\n",
    "        contributions=np.empty((len(players),self.numberOfRounds))\n",
    "        for nround in range(self.numberOfRounds):\n",
    "            #print('-----round ',nround)\n",
    "            for i in range(len(players)):\n",
    "                contributions[i,nround] = players[i].Step(Cr,nround)\n",
    "            Cr += np.sum(contributions[:,nround])/totalInitialWealth\n",
    "            \n",
    "            if self.schedule[nround]:\n",
    "                for i in range(len(players)):\n",
    "                    newWealth = (1-self.alpha*risk(Cr,self.riskCurve,players[i].initialWealth,self.lambda1,self.lambda2,self.lambda3))*(players[i].wealth-contributions[i,nround])\n",
    "                    players[i].setWealth(newWealth)\n",
    "            \n",
    "        for i in range(len(players)):\n",
    "            players[i].contribution.append(contributions[i]/players[i].initialWealth)\n",
    "                  \n",
    "        for player in players:\n",
    "            player.addFinalWealthToHistory()\n",
    "            player.resetRound()\n",
    "            \n",
    "        \n",
    "    \n",
    "    def playGeneration(self):\n",
    "        #for a certain number of iteration 2 players are selected randomly and the play a game\n",
    "        for i in range(self.numberOfGamesByGenerations):\n",
    "            players = np.random.choice(self.population,2,replace=False)\n",
    "            self.playGame(players)\n",
    "\n",
    "    def wrightFisher(self): \n",
    "        #renew the population and add noise\n",
    "        #print('1---------',self.population)\n",
    "        newBehaviours = self.renewPopulation()\n",
    "        for behav in newBehaviours:\n",
    "            a = np.random.rand()\n",
    "            b = np.random.rand()\n",
    "            if a<self.mu:\n",
    "                for elem in behav:\n",
    "                    elem[0] += round(np.random.normal(0,self.sigma),2)\n",
    "                    elem[0] = max(0,elem[0])\n",
    "                    elem[0] = min(1,elem[0])\n",
    "            if b<self.mu:\n",
    "                for elem in behav:\n",
    "                    elem[1] = round(np.random.uniform(0,1),2)\n",
    "                    elem[2] = round(np.random.uniform(0,1),2)\n",
    "        self.population = [Individual(self.wealth,self.riskCurve,self.alpha,i,newBehaviours[i]) for i in range(self.populationSize)]\n",
    "        #print('2---------',self.population)\n",
    "        \n",
    "    \n",
    "    def runSim(self):\n",
    "        #lauch a simulation \n",
    "        averageResults = []\n",
    "\n",
    "        for i in range(self.numberOfGenerations):\n",
    "            self.playGeneration()\n",
    "            contributionValues = []\n",
    "            for j in range(self.populationSize):\n",
    "                self.population[j].setFitnessValue()\n",
    "                if (self.displayContribution =='Total'):\n",
    "                    TotalContribution = [np.sum(elem) for elem in self.population[j].contribution]\n",
    "                    mean = np.mean(TotalContribution)\n",
    "                    contributionValues.append(mean)\n",
    "                elif (self.displayContribution =='Every Round'):\n",
    "                    mean = np.mean(self.population[j].contribution,axis = 0)\n",
    "                    contributionValues.append(mean)\n",
    "                else:\n",
    "                    raise ValueError('incorrect dispalyContribution argument passed') \n",
    "                    \n",
    "            if (self.numberOfGenerations-50<=i<self.numberOfGenerations):\n",
    "                averageResults.append(np.mean(contributionValues,axis = 0))\n",
    "            self.wrightFisher() \n",
    "        av = np.mean(averageResults,axis=0)\n",
    "        print('for omega = {},alpha = {}, riskurve : {}, c = {}'.format(self.numberOfRounds,self.alpha,self.riskCurve,av))\n",
    "        return av\n",
    "\n",
    "    \n",
    "\n",
    "            \n",
    "        \n",
    "            \n",
    "        \n",
    "    "
   ]
  },
  {
   "cell_type": "code",
   "execution_count": 55,
   "metadata": {},
   "outputs": [
    {
     "name": "stdout",
     "output_type": "stream",
     "text": [
      "for omega = 4,alpha = 1, riskurve : linear, c = [ 0.60351     0.09536173  0.02952913  0.01195457]\n"
     ]
    },
    {
     "data": {
      "text/plain": [
       "array([ 0.60351   ,  0.09536173,  0.02952913,  0.01195457])"
      ]
     },
     "execution_count": 55,
     "metadata": {},
     "output_type": "execute_result"
    }
   ],
   "source": [
    "sim = Simulation(4,1,'linear',numberOfGenerations = 10,mu = 0.03,displayContribution = 'Every Round')\n",
    "sim.runSim()"
   ]
  },
  {
   "cell_type": "code",
   "execution_count": null,
   "metadata": {
    "collapsed": true
   },
   "outputs": [],
   "source": [
    "alpha = [0,0.1,0.2,0.3,0.4,0.5,0.6,0.7,0.8,0.9,1]\n",
    "riskCurve = ['piecewiseLinear','linear','treshold','powerlaw']\n",
    "omega = [1,2,4]"
   ]
  },
  {
   "cell_type": "code",
   "execution_count": 100,
   "metadata": {},
   "outputs": [
    {
     "name": "stdout",
     "output_type": "stream",
     "text": [
      "----------Generation 0\n",
      "contribution : 0.5357\n",
      "0.10314\n",
      "----------Generation 0\n",
      "contribution : 0.4597\n",
      "0.230226\n",
      "----------Generation 0\n",
      "contribution : 0.4539\n",
      "0.461492\n",
      "----------Generation 0\n",
      "contribution : 0.5138\n",
      "0.61319\n"
     ]
    }
   ],
   "source": [
    "results = np.zeros((len(omega),len(riskCurve),len(alpha)))\n",
    "for o in omega:\n",
    "    for r in riskCurve:\n",
    "        for a in alpha:\n",
    "            sim = Simulation(o,a,r,numberOfGenerations = 100)\n",
    "            results[o,r,a] = sim.runSim() \n",
    "            \n",
    "            "
   ]
  },
  {
   "cell_type": "code",
   "execution_count": 23,
   "metadata": {},
   "outputs": [
    {
     "name": "stdout",
     "output_type": "stream",
     "text": [
      ">>>>Round :  1 <<<<<\n",
      "Wealth 0.81 contribution 0.1\n",
      "Wealth 0.45 contribution 0.5\n",
      ">>>>Cr :  0.6 \n",
      ">>>>Round :  2 <<<<<\n",
      "Wealth 0.2790000000000001 contribution 0.5\n",
      "Wealth 0.225 contribution 0.2\n",
      ">>>>Cr :  1.2999999999999998 \n"
     ]
    },
    {
     "data": {
      "image/png": "[encoded data removed]",
      "text/plain": [
       "<matplotlib.figure.Figure at 0x14cbbad9278>"
      ]
     },
     "metadata": {},
     "output_type": "display_data"
    }
   ],
   "source": [
    "rounds = 2 # amount of rounds\n",
    "Cr = 0 # initial public good \n",
    "population = CreatePopulation(2) # population of players\n",
    "population[1].behaviour = [[0.1,0.5,0.1],[0.7,0.2,0.5]]\n",
    "temp = 0\n",
    "for p in population:\n",
    "        temp += p.W\n",
    "for p in population:\n",
    "        p.total = temp*len(population)\n",
    "\n",
    "for i in range(rounds):\n",
    "    temp=0\n",
    "    print(\">>>>Round : \", i+1, \"<<<<<\")\n",
    "    for p in population:\n",
    "        temp += p.Step(Cr)\n",
    "    Cr+=temp\n",
    "    print(\">>>>Cr : \", Cr, \"\")\n",
    "    \n",
    "    \n",
    "plt.title('Evolution Wealth')\n",
    "plt.plot(population[0].history,'r')\n",
    "plt.plot(population[1].history,'b')\n",
    "plt.show()"
   ]
  },
  {
   "cell_type": "code",
   "execution_count": 45,
   "metadata": {},
   "outputs": [
    {
     "data": {
      "image/png": "[encoded data removed]",
      "text/plain": [
       "<matplotlib.figure.Figure at 0x1c690c7dd68>"
      ]
     },
     "metadata": {},
     "output_type": "display_data"
    }
   ],
   "source": [
    "#Risk curves plotting\n",
    "lambda1 = 1\n",
    "InitialWealth = 1\n",
    "lambda2 = 10\n",
    "lambda3 = 10\n",
    "\n",
    "p1 = lambda Cr :1 -(lambda1*Cr/InitialWealth)\n",
    "p2 = lambda Cr: 1-10*Cr if Cr<0.1 else 0\n",
    "p3 = lambda Cr : 1-math.pow(Cr/InitialWealth,lambda2)\n",
    "p4 = lambda Cr: 1/(math.exp(lambda3*((Cr/InitialWealth)-0.5))+1)\n",
    "\n",
    "xas = np.arange(0.0, 1.01, 0.01)\n",
    "yas = [ p1(x) for x in xas ]\n",
    "yas2 = [p2(x) for x in xas] \n",
    "yas3 = [p3(x) for x in xas] \n",
    "yas4 = [p4(x) for x in xas] \n",
    "plt.plot(xas, yas,label = 'linear risk curves')\n",
    "plt.plot(xas, yas2,label='piecewise linear')\n",
    "plt.plot(xas, yas3, label = 'power')\n",
    "plt.plot(xas, yas4, label = 'treshold')\n",
    "plt.legend()\n",
    "plt.title('probabilty distributions')\n",
    "plt.show()"
   ]
  },
  {
   "cell_type": "code",
   "execution_count": 137,
   "metadata": {
    "collapsed": true
   },
   "outputs": [],
   "source": [
    "plot1 =[]\n",
    "plot1.append(1)\n"
   ]
  },
  {
   "cell_type": "code",
   "execution_count": 10,
   "metadata": {},
   "outputs": [
    {
     "data": {
      "text/plain": [
       "5.0"
      ]
     },
     "execution_count": 10,
     "metadata": {},
     "output_type": "execute_result"
    }
   ],
   "source": [
    "a = [10,0,10,0]\n",
    "np.mean(a,axis=0)"
   ]
  },
  {
   "cell_type": "code",
   "execution_count": 9,
   "metadata": {},
   "outputs": [
    {
     "ename": "ValueError",
     "evalue": "batard",
     "output_type": "error",
     "traceback": [
      "\u001b[1;31m---------------------------------------------------------------------------\u001b[0m",
      "\u001b[1;31mValueError\u001b[0m                                Traceback (most recent call last)",
      "\u001b[1;32m<ipython-input-9-86272b7cd7e9>\u001b[0m in \u001b[0;36m<module>\u001b[1;34m()\u001b[0m\n\u001b[0;32m      3\u001b[0m     \u001b[0mprint\u001b[0m\u001b[1;33m(\u001b[0m\u001b[1;34m'yo'\u001b[0m\u001b[1;33m)\u001b[0m\u001b[1;33m\u001b[0m\u001b[0m\n\u001b[0;32m      4\u001b[0m \u001b[1;32melse\u001b[0m\u001b[1;33m:\u001b[0m\u001b[1;33m\u001b[0m\u001b[0m\n\u001b[1;32m----> 5\u001b[1;33m     \u001b[1;32mraise\u001b[0m \u001b[0mValueError\u001b[0m\u001b[1;33m(\u001b[0m\u001b[1;34m'batard'\u001b[0m\u001b[1;33m)\u001b[0m\u001b[1;33m\u001b[0m\u001b[0m\n\u001b[0m",
      "\u001b[1;31mValueError\u001b[0m: batard"
     ]
    }
   ],
   "source": [
    "a = 0\n",
    "if a == 1:\n",
    "    print('yo')\n",
    "else:\n",
    "    raise ValueError('batard')"
   ]
  },
  {
   "cell_type": "markdown",
   "metadata": {},
   "source": [
    "# Non Homogeneous Case\n"
   ]
  },
  {
   "cell_type": "code",
   "execution_count": 41,
   "metadata": {},
   "outputs": [],
   "source": [
    "class Simulation:\n",
    "    def __init__(self,numberOfRounds,alpha,riskCurve,wealthPoor = 1,wealthRich = 4,populationSize=100,numberOfGamesByGenerations=1000,numberOfGenerations=10000,mu=0.03,sigma=0.15,catastrophicEventSchedule = 'Every Rounds',displayContribution='Total',fractionOfPoor = 0.5):\n",
    "        self.numberOfRounds = numberOfRounds\n",
    "        self.fractionOfPoor = fractionOfPoor\n",
    "        self.numberOfGamesByGenerations = numberOfGamesByGenerations\n",
    "        self.numberOfGenerations = numberOfGenerations\n",
    "        self.wealthPoor = wealthPoor\n",
    "        self.wealthRich = wealthPoor\n",
    "        self.alpha = alpha\n",
    "        self.riskCurve = riskCurve\n",
    "        self.populationSize = populationSize\n",
    "        #create the first population\n",
    "        self.populationPoor, self.populationRich = self.createRandomPopulation()\n",
    "        self.mu = mu\n",
    "        self.sigma = sigma\n",
    "        self.catastrophicEventSchedule = catastrophicEventSchedule\n",
    "        self.schedule = self.setEventSchedule()\n",
    "        self.displayContribution = displayContribution \n",
    "        \n",
    "    def createRandomPopulation(self):\n",
    "        #create the first population\n",
    "        population = []\n",
    "        for i in len(self.populationSize):\n",
    "            if np.random.rand()<self.fractionOfPoor:\n",
    "                ind = Individual(self.wealthPoor,self.riskCurve,self.alpha,i,None)\n",
    "                ind.generateRandomBehaviour(self.numberOfRounds)\n",
    "                populationPoor.append(ind)\n",
    "            else:\n",
    "                ind = Individual(self.wealthRich,self.riskCurve,self.alpha,i,None)\n",
    "                ind.generateRandomBehaviour(self.numberOfRounds)\n",
    "                populationRich.append(ind)\n",
    "                \n",
    "        populationPoor[0].setBehaviour([[round(random.random(),2),0,0] for i in range(self.numberOfRounds)])\n",
    "        populationRich[0].setBehaviour([[round(random.random(),2),0,0] for i in range(self.numberOfRounds)])\n",
    "        return populationPoor,populationRich\n",
    "    \n",
    "    def setEventSchedule(self):\n",
    "        if self.catastrophicEventSchedule == 'Every Rounds':\n",
    "            schedule = np.ones(self.numberOfRounds, dtype=bool)\n",
    "        elif self.catastrophicEventSchedule == 'First Round':\n",
    "            schedule = np.zeros(self.numberOfRounds, dtype=bool)\n",
    "            schedule[0] = True\n",
    "            \n",
    "        elif self.catastrophicEventSchedule == 'Last Round':\n",
    "            self.schedule = np.zeros(self.numberOfRounds, dtype=bool)\n",
    "            schedule[-1] = True\n",
    "            \n",
    "        elif self.catastrophicEventSchedule == 'Random Round':\n",
    "            schedule = np.zeros(self.numberOfRounds, dtype=bool)\n",
    "            r = np.random.randint(self.numberOfRounds)\n",
    "            schedule[r] = True\n",
    "        else:\n",
    "            raise ValueError('Incorrect shedule argument passed')\n",
    "        return schedule\n",
    "            \n",
    "    \n",
    "    def renewPopulation(self):\n",
    "        fitness = np.array([individual.fitness for individual in self.population])\n",
    "        fitprop = fitness/np.sum(fitness)\n",
    "        numoffspring = np.random.multinomial(self.populationSize, fitprop)\n",
    "        a = []\n",
    "        for j in range(len(numoffspring)):\n",
    "            for i in range(numoffspring[j]):\n",
    "                b = [elem for elem in self.population[j].behaviour]\n",
    "                #memory[counter+i] = b\n",
    "                a.append(copy.deepcopy(b))\n",
    "        return a\n",
    "    \n",
    "\n",
    "            \n",
    "     \n",
    "        \n",
    "        \n",
    "    \n",
    "    def playGame(self,players):\n",
    "        #play a game between two players (or more)\n",
    "        Cr = 0 # initial public good \n",
    "        totalInitialWealth = np.sum([player.wealth for player in players])\n",
    "        contributions=np.empty((len(players),self.numberOfRounds))\n",
    "        for nround in range(self.numberOfRounds):\n",
    "            #print('-----round ',nround)\n",
    "            for i in range(len(players)):\n",
    "                contributions[i,nround] = players[i].Step(Cr,nround)\n",
    "            Cr += np.sum(contributions[:,nround])/totalInitialWealth\n",
    "            if self.schedule[nround]:\n",
    "                for i in range(len(players)):\n",
    "                    newWealth = (1-self.alpha*risk(Cr,self.riskCurve))*(players[i].wealth-contributions[i,nround])\n",
    "                    players[i].setWealth(newWealth)\n",
    "            \n",
    "        for i in range(len(players)):\n",
    "            players[i].contribution.append(contributions[i]/players[i].initialWealth)\n",
    "                  \n",
    "        for player in players:\n",
    "            player.addFinalWealthToHistory()\n",
    "            player.resetRound()\n",
    "            \n",
    "        \n",
    "    \n",
    "    def playGeneration(self):\n",
    "        #for a certain number of iteration 2 players are selected randomly and the play a game\n",
    "        for i in range(self.numberOfGamesByGenerations):\n",
    "            population = self.populationPoor + self.populationRich\n",
    "            players = np.random.choice(population,2,replace=False)\n",
    "            self.playGame(players)\n",
    "\n",
    "    def wrightFisher(self): \n",
    "        #print('1---------',self.population)\n",
    "        newBehaviours = self.renewPopulation()\n",
    "        for behav in newBehaviours:\n",
    "            a = np.random.rand()\n",
    "            b = np.random.rand()\n",
    "            if a<self.mu:\n",
    "                for elem in behav:\n",
    "                    elem[0] += round(np.random.normal(0,self.sigma),2)\n",
    "                    elem[0] = max(0,elem[0])\n",
    "                    elem[0] = min(1,elem[0])\n",
    "            if b<self.mu:\n",
    "                for elem in behav:\n",
    "                    elem[1] = round(np.random.uniform(0,1),2)\n",
    "                    elem[2] = round(np.random.uniform(0,1),2)\n",
    "        self.population = [Individual(self.wealth,self.riskCurve,self.alpha,i,newBehaviours[i]) for i in range(self.populationSize)]\n",
    "        #print('2---------',self.population)\n",
    "        \n",
    "    \n",
    "    def runSim(self):\n",
    "        averageResults = []\n",
    "        #lauch a simulation \n",
    "        for i in range(self.numberOfGenerations):\n",
    "            self.playGeneration()\n",
    "            contributionValuesPoor = []\n",
    "            contributionValuesRich = []\n",
    "            for j in range(self.populationSize):\n",
    "                self.populationPoor[j].setFitnessValue()\n",
    "                if (self.displayContribution =='Total'):\n",
    "                    TotalContribution = [np.sum(elem) for elem in self.population[j].contribution]\n",
    "                    mean = np.mean(TotalContribution)\n",
    "                    contributionValues.append(mean)\n",
    "                elif (self.displayContribution =='Every Round'):\n",
    "                    mean = np.mean(self.population[j].contribution,axis = 0)\n",
    "                    contributionValues.append(mean)\n",
    "                else:\n",
    "                    raise ValueError('incorrect dispalyContribution argument passed') \n",
    "                    \n",
    "            if (self.numberOfGenerations-50<=i<self.numberOfGenerations):\n",
    "                averageResults.append(np.mean(contributionValues,axis = 0))\n",
    "            self.wrightFisher() \n",
    "        av = np.mean(averageResults,axis=0)\n",
    "        print('for omega = {},alpha = {}, riskurve : {}, c = {}'.format(self.numberOfRounds,self.alpha,self.riskCurve,av))\n",
    "        return av\n",
    "\n",
    "    \n",
    "\n",
    "            "
   ]
  },
  {
   "cell_type": "code",
   "execution_count": 43,
   "metadata": {},
   "outputs": [
    {
     "data": {
      "text/plain": [
       "[1, 2, 1, 2, 3]"
      ]
     },
     "execution_count": 43,
     "metadata": {},
     "output_type": "execute_result"
    }
   ],
   "source": [
    "a = [1,2]\n",
    "b=[1,2,3]\n",
    "a+b"
   ]
  },
  {
   "cell_type": "code",
   "execution_count": null,
   "metadata": {
    "collapsed": true
   },
   "outputs": [],
   "source": []
  }
 ],
 "metadata": {
  "kernelspec": {
   "display_name": "Python 3",
   "language": "python",
   "name": "python3"
  },
  "language_info": {
   "codemirror_mode": {
    "name": "ipython",
    "version": 3
   },
   "file_extension": ".py",
   "mimetype": "text/x-python",
   "name": "python",
   "nbconvert_exporter": "python",
   "pygments_lexer": "ipython3",
   "version": "3.6.3"
  }
 },
 "nbformat": 4,
 "nbformat_minor": 2
}
